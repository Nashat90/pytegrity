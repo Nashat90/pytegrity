{
 "cells": [
  {
   "cell_type": "code",
   "execution_count": 1,
   "id": "3264f17e",
   "metadata": {},
   "outputs": [
    {
     "name": "stderr",
     "output_type": "stream",
     "text": [
      "c:\\Users\\ASUS\\anaconda3\\Lib\\site-packages\\plotly\\graph_objs\\_deprecations.py:378: DeprecationWarning:\n",
      "\n",
      "plotly.graph_objs.Line is deprecated.\n",
      "Please replace it with one of the following more specific types\n",
      "  - plotly.graph_objs.scatter.Line\n",
      "  - plotly.graph_objs.layout.shape.Line\n",
      "  - etc.\n",
      "\n",
      "\n",
      "c:\\Users\\ASUS\\anaconda3\\Lib\\site-packages\\plotly\\graph_objs\\_deprecations.py:378: DeprecationWarning:\n",
      "\n",
      "plotly.graph_objs.Line is deprecated.\n",
      "Please replace it with one of the following more specific types\n",
      "  - plotly.graph_objs.scatter.Line\n",
      "  - plotly.graph_objs.layout.shape.Line\n",
      "  - etc.\n",
      "\n",
      "\n",
      "c:\\Users\\ASUS\\anaconda3\\Lib\\site-packages\\plotly\\graph_objs\\_deprecations.py:378: DeprecationWarning:\n",
      "\n",
      "plotly.graph_objs.Line is deprecated.\n",
      "Please replace it with one of the following more specific types\n",
      "  - plotly.graph_objs.scatter.Line\n",
      "  - plotly.graph_objs.layout.shape.Line\n",
      "  - etc.\n",
      "\n",
      "\n"
     ]
    }
   ],
   "source": [
    "import lasio as ls\n",
    "data = ls.read(\"mfc.LAS\").df()\n",
    "fing = []\n",
    "for c in data.columns:\n",
    "    if \"FING\" in c:\n",
    "        fing.append(c)\n",
    "import pytegrity.tubular_integrity as ti\n",
    "import warnings\n",
    "warnings.filterwarnings(\"ignore\")\n",
    "fig = ti.plot_well_integrity(data,fingers=fing,plotly_template=\"plotly_white\",width=600)"
   ]
  },
  {
   "cell_type": "code",
   "execution_count": 5,
   "id": "3821af92",
   "metadata": {},
   "outputs": [],
   "source": [
    "import pytegrity.tubular_integrity as ti\n",
    "import warnings\n",
    "warnings.filterwarnings(\"ignore\")\n",
    "fig = ti.plot_well_integrity(data,fingers=fing,plotly_template=\"plotly_white\",width=600)"
   ]
  }
 ],
 "metadata": {
  "kernelspec": {
   "display_name": "base",
   "language": "python",
   "name": "python3"
  },
  "language_info": {
   "codemirror_mode": {
    "name": "ipython",
    "version": 3
   },
   "file_extension": ".py",
   "mimetype": "text/x-python",
   "name": "python",
   "nbconvert_exporter": "python",
   "pygments_lexer": "ipython3",
   "version": "3.12.7"
  }
 },
 "nbformat": 4,
 "nbformat_minor": 5
}
